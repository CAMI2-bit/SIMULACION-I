{
  "nbformat": 4,
  "nbformat_minor": 0,
  "metadata": {
    "colab": {
      "provenance": [],
      "authorship_tag": "ABX9TyOHEU/0ECThzCPylL8FlY19",
      "include_colab_link": true
    },
    "kernelspec": {
      "name": "python3",
      "display_name": "Python 3"
    },
    "language_info": {
      "name": "python"
    }
  },
  "cells": [
    {
      "cell_type": "markdown",
      "metadata": {
        "id": "view-in-github",
        "colab_type": "text"
      },
      "source": [
        "<a href=\"https://colab.research.google.com/github/CAMI2-bit/SIMULACION-I/blob/main/Prueba_CHI.ipynb\" target=\"_parent\"><img src=\"https://colab.research.google.com/assets/colab-badge.svg\" alt=\"Open In Colab\"/></a>"
      ]
    },
    {
      "cell_type": "code",
      "source": [
        "import numpy as np\n",
        "from scipy.stats import chi2\n",
        "from tabulate import tabulate\n",
        "\n",
        "# Datos aleatorios en el rango [0,1)\n",
        "datos = [\n",
        "    0.048, 0.591, 0.478, 0.166, 0.932,\n",
        "    0.926, 0.007, 0.551, 0.362, 0.533,\n",
        "    0.368, 0.437, 0.178, 0.411, 0.545,\n",
        "    0.787, 0.594, 0.086, 0.951, 0.772,\n",
        "    0.298, 0.199, 0.157, 0.401, 0.631\n",
        "]\n",
        "\n",
        "num_datos = len(datos)\n",
        "num_clases = 5\n",
        "amplitud_clase = 1 / num_clases\n",
        "grados_libertad = num_clases - 1\n",
        "alpha = 0.05\n",
        "\n",
        "# Cálculo de frecuencias esperadas\n",
        "frecuencia_esperada = [num_datos / num_clases] * num_clases\n",
        "frecuencia_observada = [0] * num_clases\n",
        "estadistico_chi = [0] * num_clases\n",
        "\n",
        "# Definir los intervalos de clase\n",
        "tabla_intervalos = [(i * amplitud_clase, (i + 1) * amplitud_clase) for i in range(num_clases)]\n",
        "\n",
        "# Contar cuántos datos caen en cada intervalo (FO)\n",
        "for valor in datos:\n",
        "    for idx, (lim_inf, lim_sup) in enumerate(tabla_intervalos):\n",
        "        if lim_inf <= valor < lim_sup:\n",
        "            frecuencia_observada[idx] += 1\n",
        "            break\n",
        "\n",
        "# Cálculo del estadístico de Chi-cuadrado usando la fórmula:\n",
        "# χ² = Σ ((FO - FE)² / FE)\n",
        "for i in range(num_clases):\n",
        "    estadistico_chi[i] = (frecuencia_observada[i] - frecuencia_esperada[i]) ** 2 / frecuencia_esperada[i]\n",
        "\n",
        "chi2_total = sum(estadistico_chi)\n",
        "\n",
        "# Valor crítico de Chi-cuadrado basado en el nivel de significancia y grados de libertad\n",
        "valor_critico = chi2.ppf(1 - alpha, grados_libertad)\n",
        "\n",
        "# Construcción de la tabla de resultados\n",
        "tabla_resultados = []\n",
        "for i in range(num_clases):\n",
        "    tabla_resultados.append([\n",
        "        f\"[{tabla_intervalos[i][0]:.2f}, {tabla_intervalos[i][1]:.2f})\",\n",
        "        frecuencia_esperada[i],\n",
        "        frecuencia_observada[i],\n",
        "        estadistico_chi[i]\n",
        "    ])\n",
        "\n",
        "if chi2_total > valor_critico:\n",
        "    print(\"Se rechaza la hipótesis nula.\")\n",
        "else:\n",
        "    print(\"No se rechaza la hipótesis nula.\")\n",
        "\n",
        "# Imprimir la tabla con los intervalos, frecuencias esperadas y observadas, y el valor Chi²\n",
        "print(tabulate(tabla_resultados, headers=[\"Intervalo\", \"FE\", \"FO\", \"Chi²\"], tablefmt=\"grid\"))\n",
        "\n",
        "\n",
        "# Mostrar resultados finales del estadístico y su comparación con el valor crítico\n",
        "print(f\"\\nEstadístico Chi-cuadrado total: {chi2_total}\")\n",
        "print(f\"Valor crítico de Chi-cuadrado con α={alpha}: {valor_critico:.4f}\")\n",
        "\n"
      ],
      "metadata": {
        "colab": {
          "base_uri": "https://localhost:8080/"
        },
        "id": "kuy0hk3orbHO",
        "outputId": "f301ff0e-60a5-4452-975e-1bb7bf3eac8f"
      },
      "execution_count": 2,
      "outputs": [
        {
          "output_type": "stream",
          "name": "stdout",
          "text": [
            "No se rechaza la hipótesis nula.\n",
            "+--------------+------+------+--------+\n",
            "| Intervalo    |   FE |   FO |   Chi² |\n",
            "+==============+======+======+========+\n",
            "| [0.00, 0.20) |    5 |    7 |    0.8 |\n",
            "+--------------+------+------+--------+\n",
            "| [0.20, 0.40) |    5 |    3 |    0.8 |\n",
            "+--------------+------+------+--------+\n",
            "| [0.40, 0.60) |    5 |    9 |    3.2 |\n",
            "+--------------+------+------+--------+\n",
            "| [0.60, 0.80) |    5 |    3 |    0.8 |\n",
            "+--------------+------+------+--------+\n",
            "| [0.80, 1.00) |    5 |    3 |    0.8 |\n",
            "+--------------+------+------+--------+\n",
            "\n",
            "Estadístico Chi-cuadrado total: 6.4\n",
            "Valor crítico de Chi-cuadrado con α=0.05: 9.4877\n"
          ]
        }
      ]
    }
  ]
}