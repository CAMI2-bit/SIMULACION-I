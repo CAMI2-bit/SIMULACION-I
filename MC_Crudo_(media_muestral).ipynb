{
  "nbformat": 4,
  "nbformat_minor": 0,
  "metadata": {
    "colab": {
      "provenance": [],
      "authorship_tag": "ABX9TyNJ4ypj22qTFo0W4MYSBOsU",
      "include_colab_link": true
    },
    "kernelspec": {
      "name": "python3",
      "display_name": "Python 3"
    },
    "language_info": {
      "name": "python"
    }
  },
  "cells": [
    {
      "cell_type": "markdown",
      "metadata": {
        "id": "view-in-github",
        "colab_type": "text"
      },
      "source": [
        "<a href=\"https://colab.research.google.com/github/CAMI2-bit/SIMULACION-I/blob/main/MC_Crudo_(media_muestral).ipynb\" target=\"_parent\"><img src=\"https://colab.research.google.com/assets/colab-badge.svg\" alt=\"Open In Colab\"/></a>"
      ]
    },
    {
      "cell_type": "markdown",
      "source": [
        "Importamos las librerias:\n",
        "- Numpy: para la suma de mis x random\n",
        "- Scipy: para calcular la integral exacta"
      ],
      "metadata": {
        "id": "JxujMVWrwbHC"
      }
    },
    {
      "cell_type": "code",
      "source": [
        "import numpy as np\n",
        "from scipy.integrate import quad"
      ],
      "metadata": {
        "id": "bq39HBTcwCya"
      },
      "execution_count": 11,
      "outputs": []
    },
    {
      "cell_type": "markdown",
      "source": [
        "Definimos la funcion a aproximar $g(x) = \\sqrt{arctan(x)}$"
      ],
      "metadata": {
        "id": "z7ilTlRsw2QC"
      }
    },
    {
      "cell_type": "code",
      "source": [
        "def g(x):\n",
        "    return np.sqrt(np.arctan(x))"
      ],
      "metadata": {
        "id": "QDXqJZKGwHET"
      },
      "execution_count": 18,
      "outputs": []
    },
    {
      "cell_type": "markdown",
      "source": [
        "Intervalo $(a,b)$\n",
        "\n",
        "N: Numero de pasos"
      ],
      "metadata": {
        "id": "kclWDyycxvEy"
      }
    },
    {
      "cell_type": "code",
      "source": [
        "a = 0\n",
        "b = 1\n",
        "N = 10000"
      ],
      "metadata": {
        "id": "norTK6awwJQy"
      },
      "execution_count": 13,
      "outputs": []
    },
    {
      "cell_type": "markdown",
      "source": [
        "Generación de numeros aleatorios, evaluación de los puntos en la función $g(x) = \\sqrt{arctan(x)}$ y renombramiento de ellos."
      ],
      "metadata": {
        "id": "UeC4Ng-jyBtS"
      }
    },
    {
      "cell_type": "code",
      "source": [
        "#Generar N puntos aleatorios\n",
        "x_random = np.random.uniform(a, b, N)\n",
        "\n",
        "#Evaluar la función en los puntos generados\n",
        "g_values = g(x_random)"
      ],
      "metadata": {
        "id": "XlRWxfh6wJ5K"
      },
      "execution_count": 14,
      "outputs": []
    },
    {
      "cell_type": "markdown",
      "source": [
        "## Estimación Monte Carlo"
      ],
      "metadata": {
        "id": "_6sqH0Z9ya9b"
      }
    },
    {
      "cell_type": "code",
      "source": [
        "#Calcular la estimación de la integral usando Monte Carlo\n",
        "integral_estimation = (1/N) * np.sum(g_values)"
      ],
      "metadata": {
        "id": "sSnDBxQiwR2a"
      },
      "execution_count": 15,
      "outputs": []
    },
    {
      "cell_type": "markdown",
      "source": [
        "Calculo de la integral exacta $\\int_a^b \\sqrt{arctan(x)} dx$ y el error"
      ],
      "metadata": {
        "id": "Q-QFoNBSyp36"
      }
    },
    {
      "cell_type": "code",
      "source": [
        "# Calcular la integral exacta con scipy\n",
        "integral_exacta, _ = quad(g, a, b)\n",
        "\n",
        "# Calcular el error absoluto\n",
        "error = abs(integral_estimation - integral_exacta)\n"
      ],
      "metadata": {
        "id": "MRlPT0ELwSPj"
      },
      "execution_count": 16,
      "outputs": []
    },
    {
      "cell_type": "markdown",
      "source": [
        "Impresión de los resultados."
      ],
      "metadata": {
        "id": "24aa9dFrzLZ6"
      }
    },
    {
      "cell_type": "code",
      "source": [
        "# Mostrar los resultados\n",
        "print(f\"Estimación de la integral con Monte Carlo: {integral_estimation:.10f}\")\n",
        "print(f\"Integral exacta: {integral_exacta:.10f}\")\n",
        "print(f\"Error absoluto: {error:.10f}\")"
      ],
      "metadata": {
        "colab": {
          "base_uri": "https://localhost:8080/"
        },
        "id": "NRBul6FgwVqq",
        "outputId": "311e5e7c-3290-4738-cf99-2dd7d93de5de"
      },
      "execution_count": 19,
      "outputs": [
        {
          "output_type": "stream",
          "name": "stdout",
          "text": [
            "Estimación de la integral con Monte Carlo: 0.6301235166\n",
            "Integral exacta: 0.6298233442\n",
            "Error absoluto: 0.0003001724\n"
          ]
        }
      ]
    }
  ]
}