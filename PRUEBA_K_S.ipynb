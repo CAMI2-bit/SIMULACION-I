{
  "nbformat": 4,
  "nbformat_minor": 0,
  "metadata": {
    "colab": {
      "provenance": [],
      "authorship_tag": "ABX9TyNUA6DGVZUGFUYY6uo/jkPG",
      "include_colab_link": true
    },
    "kernelspec": {
      "name": "python3",
      "display_name": "Python 3"
    },
    "language_info": {
      "name": "python"
    }
  },
  "cells": [
    {
      "cell_type": "markdown",
      "metadata": {
        "id": "view-in-github",
        "colab_type": "text"
      },
      "source": [
        "<a href=\"https://colab.research.google.com/github/CAMI2-bit/SIMULACION-I/blob/main/PRUEBA_K_S.ipynb\" target=\"_parent\"><img src=\"https://colab.research.google.com/assets/colab-badge.svg\" alt=\"Open In Colab\"/></a>"
      ]
    },
    {
      "cell_type": "code",
      "source": [
        "import numpy as np\n",
        "from scipy.stats import kstest\n",
        "import pandas as pd\n",
        "from scipy.stats import ksone\n",
        "\n",
        "# Datos de la tabla (ordenados de menor a mayor)\n",
        "datos = sorted([\n",
        "    0.048, 0.591, 0.478, 0.166, 0.932,\n",
        "    0.926, 0.007, 0.551, 0.362, 0.533,\n",
        "    0.368, 0.437, 0.178, 0.411, 0.545,\n",
        "    0.787, 0.594, 0.086, 0.951, 0.772,\n",
        "    0.298, 0.199, 0.157, 0.401, 0.631\n",
        "])\n",
        "\n",
        "# Número total de datos\n",
        "n = len(datos)\n",
        "alpha = 0.05  # Nivel de significancia\n",
        "\n",
        "# Índices de los datos (1 a n)\n",
        "indices = np.arange(1, n + 1)\n",
        "\n",
        "# Cálculo de las funciones de distribución\n",
        "f_n = indices / n  # i/n -> Función de distribución acumulada\n",
        "f_n_minus = (indices - 1) / n  # (i-1)/n -> Función de distribución acumulada\n",
        "\n",
        "# Cálculo de D+ y D-\n",
        "D_plus = f_n - datos  # i/n - X_i\n",
        "D_minus = datos - f_n_minus  # X_i - (i-1)/n\n",
        "\n",
        "# Obtener los valores máximos de D+ y D-\n",
        "D_plus_max = np.max(D_plus)\n",
        "D_minus_max = np.max(D_minus)\n",
        "\n",
        "# Calcular D (el valor más grande entre D+ y D-)\n",
        "D = max(D_plus_max, D_minus_max)\n",
        "\n",
        "# Crear un DataFrame para visualizar los resultados en forma tabular\n",
        "tabla = pd.DataFrame({\n",
        "    'i': indices,\n",
        "    'X_i': datos,\n",
        "    'i/n': f_n,\n",
        "    '(i-1)/n': f_n_minus,\n",
        "    'i/n - X_i': D_plus,\n",
        "    'X_i - (i-1)/n': D_minus\n",
        "})\n",
        "\n",
        "# Imprimir la tabla con los valores calculados\n",
        "print(tabla.to_string(index=False))\n",
        "\n",
        "# Valor crítico (D crítico) de la prueba KS para el nivel de significancia dado\n",
        "D_critico = ksone.ppf(1 - alpha/2, n)\n",
        "print(f'\\nD crítico: {D_critico:.5f}')\n",
        "\n",
        "# Prueba de Kolmogorov-Smirnov utilizando scipy\n",
        "statistic, p_value = kstest(datos, 'uniform')\n",
        "\n",
        "# Imprimir resultados de la prueba KS\n",
        "print(f'\\nEstadístico KS: {statistic:.5f}')\n",
        "print(f'Valor p: {D_critico}')\n",
        "\n",
        "# Imprimir valores de D+, D- y D\n",
        "print(f'\\nD+ = {D_plus_max:.5f}')\n",
        "print(f'D- = {D_minus_max:.5f}')\n",
        "print(f'D = {D:.5f}')\n",
        "\n",
        "# Evaluar si se rechaza la hipótesis nula (H0: los datos siguen una distribución uniforme)\n",
        "if D > D_critico:\n",
        "    print(\"Rechazamos la hipótesis\")\n",
        "else:\n",
        "    print(\"No se puede rechazar la hipótesis\")\n"
      ],
      "metadata": {
        "id": "66a7s_BfAcgC",
        "outputId": "b5d33fb8-4ae5-40aa-fdac-bb7e0800cce0",
        "colab": {
          "base_uri": "https://localhost:8080/"
        }
      },
      "execution_count": 2,
      "outputs": [
        {
          "output_type": "stream",
          "name": "stdout",
          "text": [
            " i   X_i  i/n  (i-1)/n  i/n - X_i  X_i - (i-1)/n\n",
            " 1 0.007 0.04     0.00      0.033          0.007\n",
            " 2 0.048 0.08     0.04      0.032          0.008\n",
            " 3 0.086 0.12     0.08      0.034          0.006\n",
            " 4 0.157 0.16     0.12      0.003          0.037\n",
            " 5 0.166 0.20     0.16      0.034          0.006\n",
            " 6 0.178 0.24     0.20      0.062         -0.022\n",
            " 7 0.199 0.28     0.24      0.081         -0.041\n",
            " 8 0.298 0.32     0.28      0.022          0.018\n",
            " 9 0.362 0.36     0.32     -0.002          0.042\n",
            "10 0.368 0.40     0.36      0.032          0.008\n",
            "11 0.401 0.44     0.40      0.039          0.001\n",
            "12 0.411 0.48     0.44      0.069         -0.029\n",
            "13 0.437 0.52     0.48      0.083         -0.043\n",
            "14 0.478 0.56     0.52      0.082         -0.042\n",
            "15 0.533 0.60     0.56      0.067         -0.027\n",
            "16 0.545 0.64     0.60      0.095         -0.055\n",
            "17 0.551 0.68     0.64      0.129         -0.089\n",
            "18 0.591 0.72     0.68      0.129         -0.089\n",
            "19 0.594 0.76     0.72      0.166         -0.126\n",
            "20 0.631 0.80     0.76      0.169         -0.129\n",
            "21 0.772 0.84     0.80      0.068         -0.028\n",
            "22 0.787 0.88     0.84      0.093         -0.053\n",
            "23 0.926 0.92     0.88     -0.006          0.046\n",
            "24 0.932 0.96     0.92      0.028          0.012\n",
            "25 0.951 1.00     0.96      0.049         -0.009\n",
            "\n",
            "D crítico: 0.26404\n",
            "\n",
            "Estadístico KS: 0.16900\n",
            "Valor p: 0.26404165128797874\n",
            "\n",
            "D+ = 0.16900\n",
            "D- = 0.04600\n",
            "D = 0.16900\n",
            "No se puede rechazar la hipótesis\n"
          ]
        }
      ]
    }
  ]
}