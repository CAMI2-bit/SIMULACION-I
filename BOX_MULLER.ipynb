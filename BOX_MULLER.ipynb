{
  "nbformat": 4,
  "nbformat_minor": 0,
  "metadata": {
    "colab": {
      "provenance": [],
      "authorship_tag": "ABX9TyPnf8Hbfy9qZh6NMvsejRAq",
      "include_colab_link": true
    },
    "kernelspec": {
      "name": "python3",
      "display_name": "Python 3"
    },
    "language_info": {
      "name": "python"
    }
  },
  "cells": [
    {
      "cell_type": "markdown",
      "metadata": {
        "id": "view-in-github",
        "colab_type": "text"
      },
      "source": [
        "<a href=\"https://colab.research.google.com/github/CAMI2-bit/SIMULACION-I/blob/main/BOX_MULLER.ipynb\" target=\"_parent\"><img src=\"https://colab.research.google.com/assets/colab-badge.svg\" alt=\"Open In Colab\"/></a>"
      ]
    },
    {
      "cell_type": "markdown",
      "source": [
        "### Metodo Box-Muller\n",
        "\n",
        "\n",
        "El método Box-Muller es una herramienta en simulación para obtener variables normales estándar a partir de uniformes"
      ],
      "metadata": {
        "id": "Y1w9sC6i0DlS"
      }
    },
    {
      "cell_type": "markdown",
      "source": [
        "Importamos las librerias necesarias"
      ],
      "metadata": {
        "id": "2Lc-5yYj0uGv"
      }
    },
    {
      "cell_type": "code",
      "execution_count": 1,
      "metadata": {
        "id": "zyrdQ5ZzxC1Z"
      },
      "outputs": [],
      "source": [
        "#Librerias\n",
        "import random as rd\n",
        "import numpy as np\n",
        "import matplotlib.pyplot as plt\n",
        "import math"
      ]
    },
    {
      "cell_type": "markdown",
      "source": [
        "\n",
        "A partir de dos variables uniformes independientes\n",
        "$U_1$, $U_2$ ∈ $(0,1), se generan dos variables normales independientes.\n",
        "\n",
        "Se basa en el cambio a coordenadas polares y en las propiedades de la distribución normal bivariada."
      ],
      "metadata": {
        "id": "ViSglqkn0tdH"
      }
    },
    {
      "cell_type": "code",
      "source": [
        "def box_muller(n):\n",
        "  lista = []\n",
        "  for i in range(n):\n",
        "    U1=rd.random()\n",
        "    U2=rd.random()\n",
        "    R=math.sqrt(-2*math.log(U1))\n",
        "    t=2*math.pi*U2\n",
        "    x=R*math.cos(t)\n",
        "    y=R*math.sin(t)\n",
        "    lista.append(x)\n",
        "    lista.append(y)\n",
        "  return lista"
      ],
      "metadata": {
        "id": "bvlypFkkxKjH"
      },
      "execution_count": 2,
      "outputs": []
    },
    {
      "cell_type": "markdown",
      "source": [
        "Conviene usar el método Box-Muller porque es simple, preciso, didáctico y transforma uniformes en normales sin necesidad de librerías complejas"
      ],
      "metadata": {
        "id": "ziHffdFa2PiR"
      }
    },
    {
      "cell_type": "markdown",
      "source": [
        "Hacemos la simulacion"
      ],
      "metadata": {
        "id": "1vnNjS_52U0x"
      }
    },
    {
      "cell_type": "code",
      "source": [
        "m=box_muller(100000)"
      ],
      "metadata": {
        "id": "-8Q651aqxOM8"
      },
      "execution_count": 3,
      "outputs": []
    },
    {
      "cell_type": "markdown",
      "source": [
        "Graficamos"
      ],
      "metadata": {
        "id": "y_Ab1SFZ2Slm"
      }
    },
    {
      "cell_type": "code",
      "source": [
        "plt.hist(m, bins=100, density=True)\n",
        "plt.show()"
      ],
      "metadata": {
        "colab": {
          "base_uri": "https://localhost:8080/",
          "height": 430
        },
        "id": "p3XoVvPnxTZe",
        "outputId": "4ee04b4d-450c-44f9-e608-87686a7cc14e"
      },
      "execution_count": 4,
      "outputs": [
        {
          "output_type": "display_data",
          "data": {
            "text/plain": [
              "<Figure size 640x480 with 1 Axes>"
            ],
            "image/png": "[encoded data removed]"
          },
          "metadata": {}
        }
      ]
    },
    {
      "cell_type": "markdown",
      "source": [
        "Calculamos la media y la varianza\n",
        "\n",
        "\n",
        "Comparandoro con los resultados teoricos nos damos cuenta que los resultados se asemejan demasiado"
      ],
      "metadata": {
        "id": "p70rJAnA2bXH"
      }
    },
    {
      "cell_type": "code",
      "source": [
        "media = np.mean(m)\n",
        "print(\"La media es: \", media)\n",
        "\n",
        "varianza = np.var(m)\n",
        "print(\"La varianza es: \", varianza)"
      ],
      "metadata": {
        "colab": {
          "base_uri": "https://localhost:8080/"
        },
        "id": "RPw5blB7xYlt",
        "outputId": "3a1adb39-f97c-461d-d14a-2d4ba61bb677"
      },
      "execution_count": 5,
      "outputs": [
        {
          "output_type": "stream",
          "name": "stdout",
          "text": [
            "La media es:  -0.0013009187815378191\n",
            "La varianza es:  0.9997215991184137\n"
          ]
        }
      ]
    }
  ]
}