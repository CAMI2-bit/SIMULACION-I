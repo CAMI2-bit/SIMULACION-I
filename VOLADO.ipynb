{
  "nbformat": 4,
  "nbformat_minor": 0,
  "metadata": {
    "colab": {
      "provenance": [],
      "authorship_tag": "ABX9TyM1MWaFdRiTje5YkDbqoM5X",
      "include_colab_link": true
    },
    "kernelspec": {
      "name": "python3",
      "display_name": "Python 3"
    },
    "language_info": {
      "name": "python"
    }
  },
  "cells": [
    {
      "cell_type": "markdown",
      "metadata": {
        "id": "view-in-github",
        "colab_type": "text"
      },
      "source": [
        "<a href=\"https://colab.research.google.com/github/CAMI2-bit/SIMULACION-I/blob/main/VOLADO.ipynb\" target=\"_parent\"><img src=\"https://colab.research.google.com/assets/colab-badge.svg\" alt=\"Open In Colab\"/></a>"
      ]
    },
    {
      "cell_type": "code",
      "source": [
        "import random\n",
        "\n",
        "def volado():\n",
        "    n = 20\n",
        "    for i in range(n):\n",
        "        x = random.random()\n",
        "        print(x)\n",
        "\n",
        "volado()\n"
      ],
      "metadata": {
        "colab": {
          "base_uri": "https://localhost:8080/"
        },
        "id": "OormAYmhV3Gq",
        "outputId": "891aaeaf-fa65-4dc7-8ed0-fff032795582"
      },
      "execution_count": 9,
      "outputs": [
        {
          "output_type": "stream",
          "name": "stdout",
          "text": [
            "0.626412304185743\n",
            "0.15398220473627244\n",
            "0.30285192099837066\n",
            "0.16324590046941123\n",
            "0.5281619647600502\n",
            "0.7848835638308339\n",
            "0.33637292943410213\n",
            "0.16836607111018398\n",
            "0.8284028415709738\n",
            "0.13884998532735582\n",
            "0.2612670228699112\n",
            "0.8674476720871602\n",
            "0.7855301291862985\n",
            "0.7347089514457072\n",
            "0.01942209379338855\n",
            "0.7066351629515303\n",
            "0.5403146215198485\n",
            "0.6468857704638016\n",
            "0.9998788410683038\n",
            "0.20353521400403718\n"
          ]
        }
      ]
    },
    {
      "cell_type": "code",
      "source": [
        "import random"
      ],
      "metadata": {
        "id": "VAykEb7jWn9w"
      },
      "execution_count": 38,
      "outputs": []
    },
    {
      "cell_type": "code",
      "source": [
        "def volado(n=15):\n",
        "    a=0\n",
        "    s=0\n",
        "    resultados = []\n",
        "    for i in range(n):\n",
        "        x = random.random()\n",
        "        if 0 <= x < 0.5:\n",
        "           resultados.append (\"A\")\n",
        "           a+=1\n",
        "        else:\n",
        "            resultados.append (\"S\")\n",
        "            s+=1\n",
        "    prob_a=a/n\n",
        "    prob_s=s/n\n",
        "    print(f\"La probabilidad de A es: {prob_a}\")\n",
        "    print(f\"La probabilidad de S es: {prob_s}\")\n",
        "volado(15)"
      ],
      "metadata": {
        "colab": {
          "base_uri": "https://localhost:8080/"
        },
        "id": "0Hdk7dScXJth",
        "outputId": "0cbd615a-535b-4a18-af49-6145ca8ca795"
      },
      "execution_count": 40,
      "outputs": [
        {
          "output_type": "stream",
          "name": "stdout",
          "text": [
            "La probabilidad de A es: 0.4666666666666667\n",
            "La probabilidad de S es: 0.5333333333333333\n"
          ]
        }
      ]
    },
    {
      "cell_type": "code",
      "source": [],
      "metadata": {
        "id": "iWCveoeKX6DH"
      },
      "execution_count": null,
      "outputs": []
    }
  ]
}