{
  "nbformat": 4,
  "nbformat_minor": 0,
  "metadata": {
    "colab": {
      "provenance": [],
      "authorship_tag": "ABX9TyO5jtaMN1+51p7j0KxH1+7e",
      "include_colab_link": true
    },
    "kernelspec": {
      "name": "python3",
      "display_name": "Python 3"
    },
    "language_info": {
      "name": "python"
    }
  },
  "cells": [
    {
      "cell_type": "markdown",
      "metadata": {
        "id": "view-in-github",
        "colab_type": "text"
      },
      "source": [
        "<a href=\"https://colab.research.google.com/github/CAMI2-bit/SIMULACION-I/blob/main/Transformada_Inversa.ipynb\" target=\"_parent\"><img src=\"https://colab.research.google.com/assets/colab-badge.svg\" alt=\"Open In Colab\"/></a>"
      ]
    },
    {
      "cell_type": "markdown",
      "source": [
        "### Transformada Inversa"
      ],
      "metadata": {
        "id": "lqPj_s6pXcZD"
      }
    },
    {
      "cell_type": "markdown",
      "source": [
        "Importamos las librerias necesarias"
      ],
      "metadata": {
        "id": "SiZ751ytdAsU"
      }
    },
    {
      "cell_type": "code",
      "source": [
        "import random as rd\n",
        "import numpy as np\n",
        "import matplotlib.pyplot as plt\n"
      ],
      "metadata": {
        "id": "FErvS8ludHoZ"
      },
      "execution_count": 27,
      "outputs": []
    },
    {
      "cell_type": "markdown",
      "source": [
        "Definimos la funcion"
      ],
      "metadata": {
        "id": "bnX0g1o0dGAD"
      }
    },
    {
      "cell_type": "code",
      "source": [
        "a = 1\n",
        "b = 3\n",
        "c = 5\n",
        "\n",
        "def f(x):\n",
        "    if a <= x <= b:\n",
        "        return (2*(x - a)) / ((c - a)*(b - a))\n",
        "    elif b < x <= c:\n",
        "        return (2*(c - x)) / ((c - a)*(c - b))\n",
        "    else:\n",
        "        return 0\n",
        "\n",
        "M = 2 / (c - a)\n"
      ],
      "metadata": {
        "id": "aRNaJbFfeDfS"
      },
      "execution_count": 28,
      "outputs": []
    },
    {
      "cell_type": "markdown",
      "source": [
        "Aplicando el metodo de aceptacion"
      ],
      "metadata": {
        "id": "K_uC3nbKeF0p"
      }
    },
    {
      "cell_type": "code",
      "source": [
        "def aceptacion(n):\n",
        "    lista = []\n",
        "    while len(lista) < n:\n",
        "        R1 = rd.random()\n",
        "        R2 = rd.random()\n",
        "        x = a + (c - a) * R1\n",
        "        if R2 <= f(x) / M:\n",
        "            lista.append(x)\n",
        "    return lista\n",
        "\n",
        "\n",
        "u = aceptacion(50000)"
      ],
      "metadata": {
        "id": "jCrq2t_qeFhn"
      },
      "execution_count": 29,
      "outputs": []
    },
    {
      "cell_type": "markdown",
      "source": [
        "Calculando la media y varianza\n",
        "\n",
        "\n",
        "Comparando con resultados teoricos calculados en clase que son\n",
        "\n",
        "\n",
        "\n",
        "*   Media: 3\n",
        "*   Varianza: 2/3\n",
        "\n"
      ],
      "metadata": {
        "id": "sXTMotOTeYTK"
      }
    },
    {
      "cell_type": "code",
      "source": [
        "print(\"Media:\", np.mean(u))\n",
        "print(\"Varianza:\", np.var(u))"
      ],
      "metadata": {
        "colab": {
          "base_uri": "https://localhost:8080/"
        },
        "id": "E3sqqDDmekRV",
        "outputId": "6413bd20-2256-4f56-919c-e1012232f04a"
      },
      "execution_count": 30,
      "outputs": [
        {
          "output_type": "stream",
          "name": "stdout",
          "text": [
            "Media: 2.9982655523121315\n",
            "Varianza: 0.6632240864892444\n"
          ]
        }
      ]
    },
    {
      "cell_type": "markdown",
      "source": [
        "Graficando"
      ],
      "metadata": {
        "id": "MPkiTaDQelYI"
      }
    },
    {
      "cell_type": "code",
      "source": [
        "plt.hist(u, bins=50)\n",
        "\n",
        "plt.show()"
      ],
      "metadata": {
        "colab": {
          "base_uri": "https://localhost:8080/",
          "height": 430
        },
        "id": "-hVSEcNeenNe",
        "outputId": "706a144e-c6d7-49df-a497-971a15a316b1"
      },
      "execution_count": 31,
      "outputs": [
        {
          "output_type": "display_data",
          "data": {
            "text/plain": [
              "<Figure size 640x480 with 1 Axes>"
            ],
            "image/png": "[encoded data removed]"
          },
          "metadata": {}
        }
      ]
    }
  ]
}