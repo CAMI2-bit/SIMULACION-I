{
  "nbformat": 4,
  "nbformat_minor": 0,
  "metadata": {
    "colab": {
      "provenance": [],
      "authorship_tag": "ABX9TyPeFWWldUHdHTD5R8O2zzbR",
      "include_colab_link": true
    },
    "kernelspec": {
      "name": "python3",
      "display_name": "Python 3"
    },
    "language_info": {
      "name": "python"
    }
  },
  "cells": [
    {
      "cell_type": "markdown",
      "metadata": {
        "id": "view-in-github",
        "colab_type": "text"
      },
      "source": [
        "<a href=\"https://colab.research.google.com/github/CAMI2-bit/SIMULACION-I/blob/main/Aceptacion_y_rechazo.ipynb\" target=\"_parent\"><img src=\"https://colab.research.google.com/assets/colab-badge.svg\" alt=\"Open In Colab\"/></a>"
      ]
    },
    {
      "cell_type": "markdown",
      "source": [
        "### Metodo de aceptacion y error"
      ],
      "metadata": {
        "id": "NumfiDuulRd1"
      }
    },
    {
      "cell_type": "markdown",
      "source": [
        "Importamos las librerias necesarias"
      ],
      "metadata": {
        "id": "dE8kxVHclelA"
      }
    },
    {
      "cell_type": "code",
      "source": [
        "import numpy as np\n",
        "import matplotlib.pyplot as plt\n",
        "from random import random"
      ],
      "metadata": {
        "id": "MAgI3eK2lnB7"
      },
      "execution_count": 3,
      "outputs": []
    },
    {
      "cell_type": "markdown",
      "source": [
        "Definimos la funcion de aceptacion y error"
      ],
      "metadata": {
        "id": "hCpEGiwxlpoN"
      }
    },
    {
      "cell_type": "code",
      "source": [
        "def triangular(n):\n",
        "  a,b,c=1,3,5 #Parametros\n",
        "  x = [] #Lista vacia\n",
        "  for i in range(n):\n",
        "    R = random()\n",
        "    if R<(b-a)/(c-a):\n",
        "      x.append(a + np.sqrt(R * (b - a) * (c - a)))\n",
        "    elif R>=(b-a)/(c-a):\n",
        "      x.append(c - np.sqrt((1 - R) * (c - b) * (c - a)))\n",
        "  return x\n",
        "\n",
        "#Muestras\n",
        "A = triangular(10000)"
      ],
      "metadata": {
        "id": "P8Ge29ZIlpR3"
      },
      "execution_count": 4,
      "outputs": []
    },
    {
      "cell_type": "markdown",
      "source": [
        "Graficando"
      ],
      "metadata": {
        "id": "snAwBtkQl63a"
      }
    },
    {
      "cell_type": "code",
      "source": [
        "#Histograma\n",
        "plt.hist(A, bins=50)\n",
        "plt.title(\"Distribución Triangular\")"
      ],
      "metadata": {
        "colab": {
          "base_uri": "https://localhost:8080/",
          "height": 471
        },
        "id": "0ZGjGX-Ql6UR",
        "outputId": "95757508-805d-4f94-c9dc-0b7ca385b98d"
      },
      "execution_count": 5,
      "outputs": [
        {
          "output_type": "execute_result",
          "data": {
            "text/plain": [
              "Text(0.5, 1.0, 'Distribución Triangular')"
            ]
          },
          "metadata": {},
          "execution_count": 5
        },
        {
          "output_type": "display_data",
          "data": {
            "text/plain": [
              "<Figure size 640x480 with 1 Axes>"
            ],
            "image/png": "[encoded data removed]"
          },
          "metadata": {}
        }
      ]
    },
    {
      "cell_type": "markdown",
      "source": [
        "Calculando media y varianza y comparando con resultados teoricos que son\n",
        "\n",
        "\n",
        "\n",
        "*   Media: 3\n",
        "*   Varianza: 0.666\n",
        "\n"
      ],
      "metadata": {
        "id": "p8wHGJn7mTqy"
      }
    },
    {
      "cell_type": "code",
      "source": [
        "print(\"Media:\", np.mean(A))\n",
        "print(\"Varianza:\", np.var(A))"
      ],
      "metadata": {
        "colab": {
          "base_uri": "https://localhost:8080/"
        },
        "id": "cqE3GF98mmjG",
        "outputId": "c380a2db-a475-42c2-9883-c7b1644bfbf5"
      },
      "execution_count": 6,
      "outputs": [
        {
          "output_type": "stream",
          "name": "stdout",
          "text": [
            "Media: 2.989058663805234\n",
            "Varianza: 0.6695239182564118\n"
          ]
        }
      ]
    }
  ]
}