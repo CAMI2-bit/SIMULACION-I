{
  "nbformat": 4,
  "nbformat_minor": 0,
  "metadata": {
    "colab": {
      "provenance": [],
      "authorship_tag": "ABX9TyPzmAaR0sd23V7S7KIP7LBE",
      "include_colab_link": true
    },
    "kernelspec": {
      "name": "python3",
      "display_name": "Python 3"
    },
    "language_info": {
      "name": "python"
    }
  },
  "cells": [
    {
      "cell_type": "markdown",
      "metadata": {
        "id": "view-in-github",
        "colab_type": "text"
      },
      "source": [
        "<a href=\"https://colab.research.google.com/github/CAMI2-bit/SIMULACION-I/blob/main/Juego_con_monedas.ipynb\" target=\"_parent\"><img src=\"https://colab.research.google.com/assets/colab-badge.svg\" alt=\"Open In Colab\"/></a>"
      ]
    },
    {
      "cell_type": "markdown",
      "source": [
        "##Juego con monedas\n",
        "\n",
        "Supones que tenemos en un tablero con cuatro sectores. Lanzamos dos monedas y avanzamos, en sentido horario, el numero de caras que aparezcan. Si repetimos el procedimiento..\n",
        "\n",
        "¿Son todos los sectores igual de probables cuando pase mucho tiempo?"
      ],
      "metadata": {
        "id": "lD71Z4FIHKKV"
      }
    },
    {
      "cell_type": "code",
      "source": [
        "import numpy as np\n",
        "\n",
        "\n",
        "#Colores: 0-Naranja, 1-Azul, 2-Verde, 3-Rojo\n",
        "\n",
        "#Función que simula cuántos \"soles\" (caras) salen al lanzar dos monedas\n",
        "def lanzar_monedas():\n",
        "    return np.random.binomial(n=2, p=0.5)\n",
        "\n",
        "#Actualiza la posición del jugador en el tablero circular\n",
        "def actualizar_posicion(actual, total_colores):\n",
        "    pasos = lanzar_monedas()\n",
        "    nueva_pos = (actual + pasos) % total_colores\n",
        "    return nueva_pos\n",
        "\n",
        "#Simula una sola ronda de juego con cierta cantidad de turnos\n",
        "def simular_ronda(turnos, total_colores=4):\n",
        "    ubicacion = 0  # Partimos desde el color 0 (Naranja)\n",
        "    for _ in range(turnos):\n",
        "        ubicacion = actualizar_posicion(ubicacion, total_colores)\n",
        "    return ubicacion\n",
        "\n",
        "#Repite el juego varias veces y estima la frecuencia de terminar en cada color\n",
        "def estimar_probabilidades(repeticiones, turnos, total_colores=4):\n",
        "    frecuencias = {i: 0 for i in range(total_colores)}\n",
        "    for _ in range(repeticiones):\n",
        "        resultado = simular_ronda(turnos, total_colores)\n",
        "        frecuencias[resultado] += 1\n",
        "    probabilidades = {k: v / repeticiones for k, v in frecuencias.items()}\n",
        "    return probabilidades\n",
        "\n",
        "#La simulación\n",
        "resultados = estimar_probabilidades(repeticiones=100000, turnos=100)\n",
        "\n",
        "#Mostramos los resultados ordenados por color\n",
        "for color, prob in sorted(resultados.items()):\n",
        "    print(f\"Color {color}: {prob:.4f}\")\n"
      ],
      "metadata": {
        "colab": {
          "base_uri": "https://localhost:8080/"
        },
        "id": "trnnfijyQZQF",
        "outputId": "25e201f6-d334-4c33-e937-9e60ff17417d"
      },
      "execution_count": 3,
      "outputs": [
        {
          "output_type": "stream",
          "name": "stdout",
          "text": [
            "Color 0: 0.2506\n",
            "Color 1: 0.2499\n",
            "Color 2: 0.2500\n",
            "Color 3: 0.2495\n"
          ]
        }
      ]
    },
    {
      "cell_type": "markdown",
      "source": [
        "##Solucion Analitica\n",
        "\n",
        "# Probabilidad de resultados al lanzar dos monedas\n",
        "\n",
        "Cuando se lanzan dos monedas justas, los posibles resultados y sus probabilidades son:\n",
        "\n",
        "\n",
        "$P(\\text{0 caras}) = P(\\text{SS}) = \\frac{1}{4}$\n",
        "\n",
        "$P(\\text{1 cara}) = P(\\text{CS}) + P(\\text{SC}) = \\frac{1}{2}$\n",
        "\n",
        "$P(\\text{2 caras}) = P(\\text{CC}) = \\frac{1}{4}$\n",
        "\n",
        "Estas corresponden a una distribución binomial con $( n = 2 )$ ensayos y probabilidad $( p = 0.5 )$ de éxito por moneda.\n",
        "\n",
        "---\n",
        "\n",
        "## Definición de probabilidades por sector\n",
        "\n",
        "Definimos las probabilidades de encontrarse en cada color luego de \\( n \\) movimientos como:\n",
        "\n",
        "$X_n = P(\\text{Naranja}), \\quad Y_n = P(\\text{Azul}), \\quad Z_n = P(\\text{Verde}), \\quad T_n = P(\\text{Rojo})$\n",
        "\n",
        "---\n",
        "\n",
        "## Relaciones de recurrencia entre estados\n",
        "\n",
        "Aplicando el Teorema de la Probabilidad Total, obtenemos las siguientes ecuaciones de transición entre estados:\n",
        "\n",
        "Para el sector Naranja (posición 0):\n",
        "\n",
        "\n",
        "$X_{n+1} = \\frac{1}{4}X_n + \\frac{1}{4}Z_n + \\frac{1}{2}T_n$\n",
        "\n",
        "Para el sector Azul (posición 1):\n",
        "\n",
        "\n",
        "$Y_{n+1} = \\frac{1}{2}X_n + \\frac{1}{4}Y_n + \\frac{1}{4}T_n$\n",
        "\n",
        "Para el sector Verde (posición 2):\n",
        "\n",
        "\n",
        "$Z_{n+1} = \\frac{1}{4}X_n + \\frac{1}{2}Y_n + \\frac{1}{4}Z_n$\n",
        "\n",
        "Para el sector Rojo (posición 3):\n",
        "\n",
        "\n",
        "$T_{n+1} = \\frac{1}{4}Y_n + \\frac{1}{2}Z_n + \\frac{1}{4}T_n$\n",
        "\n",
        "---\n",
        "\n",
        "## Matriz de transición\n",
        "\n",
        "Estas relaciones se pueden representar matricialmente como:\n",
        "\n",
        "\n",
        "$\\begin{pmatrix}\n",
        "X_{n+1} \\\\\n",
        "Y_{n+1} \\\\\n",
        "Z_{n+1} \\\\\n",
        "T_{n+1}\n",
        "\\end{pmatrix}\n",
        "=\n",
        "\\begin{pmatrix}\n",
        "\\frac{1}{4} & 0 & \\frac{1}{4} & \\frac{1}{2} \\\\\n",
        "\\frac{1}{2} & \\frac{1}{4} & 0 & \\frac{1}{4} \\\\\n",
        "\\frac{1}{4} & \\frac{1}{2} & \\frac{1}{4} & 0 \\\\\n",
        "0 & \\frac{1}{4} & \\frac{1}{2} & \\frac{1}{4}\n",
        "\\end{pmatrix}\n",
        "\\begin{pmatrix}\n",
        "X_n \\\\\n",
        "Y_n \\\\\n",
        "Z_n \\\\\n",
        "T_n\n",
        "\\end{pmatrix}\n",
        "$\n",
        "\n",
        "---\n",
        "\n",
        "## Solución en el estado estacionario\n",
        "\n",
        "En el equilibrio (cuando \\( n \\to \\infty \\)), las probabilidades se estabilizan:\n",
        "\n",
        "\n",
        "$X_{n+1} = X_n = X, \\quad Y_{n+1} = Y_n = Y, \\quad Z_{n+1} = Z_n = Z, \\quad T_{n+1} = T_n = T$\n",
        "\n",
        "Con la condición adicional de normalización:\n",
        "\n",
        "$X + Y + Z + T = 1$\n",
        "\n",
        "Al resolver el sistema de ecuaciones, se obtiene:\n",
        "\n",
        "\n",
        "$X = \\frac{1}{4}, \\quad Y = \\frac{1}{4}, \\quad Z = \\frac{1}{4}, \\quad T = \\frac{1}{4}$\n",
        "\n",
        "---\n",
        "\n",
        "## Conclusión\n",
        "\n",
        "Después de un gran número de pasos, la probabilidad de estar en cualquiera de los sectores se vuelve uniforme:\n",
        "\n",
        "\n",
        "$P(\\text{Naranja}) = P(\\text{Azul}) = P(\\text{Verde}) = P(\\text{Rojo}) = \\frac{1}{4}$\n",
        "\n",
        "Esto indica que, en el largo plazo, el sistema se comporta de forma equitativa para cada posición.\n"
      ],
      "metadata": {
        "id": "NP5GshX5TwGn"
      }
    }
  ]
}