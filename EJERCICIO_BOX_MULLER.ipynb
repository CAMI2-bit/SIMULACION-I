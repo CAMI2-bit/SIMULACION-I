{
  "nbformat": 4,
  "nbformat_minor": 0,
  "metadata": {
    "colab": {
      "provenance": [],
      "authorship_tag": "ABX9TyMuLCn4WgQPVygyewbkmMTq",
      "include_colab_link": true
    },
    "kernelspec": {
      "name": "python3",
      "display_name": "Python 3"
    },
    "language_info": {
      "name": "python"
    }
  },
  "cells": [
    {
      "cell_type": "markdown",
      "metadata": {
        "id": "view-in-github",
        "colab_type": "text"
      },
      "source": [
        "<a href=\"https://colab.research.google.com/github/CAMI2-bit/SIMULACION-I/blob/main/EJERCICIO_BOX_MULLER.ipynb\" target=\"_parent\"><img src=\"https://colab.research.google.com/assets/colab-badge.svg\" alt=\"Open In Colab\"/></a>"
      ]
    },
    {
      "cell_type": "markdown",
      "source": [
        "###BOX MULLER\n",
        ""
      ],
      "metadata": {
        "id": "Hla2WoYaSY4f"
      }
    },
    {
      "cell_type": "markdown",
      "source": [
        "#### EJERCICIO\n",
        "\n",
        "Una flecha sera ensamblada enun cojinete\n",
        "\n",
        "Si $x_1$ sigue una distribucion con media 1.5 y varianza 0.0016, y $x_2$ sigue esta misma distrubucion con media 1.48 y varianza 0.0009 determina la probabilidad\n",
        "a) cuando hay interferencia\n",
        "b) el numero de veces que sea necesario hacer simulaciones, si se quiere que la probabilidad de interferencia estimada difiera de su valor verdadero en menos de 0.01, con un nivel de seguridad del 95%"
      ],
      "metadata": {
        "id": "SFQBogOAi3V6"
      }
    },
    {
      "cell_type": "markdown",
      "source": [
        "####PASO 1: Identifique las variables\n",
        "\n",
        "\\begin{equation}\n",
        "x_1 \\sim N(1.5 , 0.04)\n",
        "\\end{equation}\n",
        "\n",
        "\\begin{equation}\n",
        "x_2 \\sim N(1.48 , 0.03)\n",
        "\\end{equation}"
      ],
      "metadata": {
        "id": "7jX8cOCgi1W8"
      }
    },
    {
      "cell_type": "markdown",
      "source": [
        "####PASO 2: Determine la distribución de probabilidad\n",
        "\n",
        "\\begin{equation}\n",
        "x_1 \\thicksim f(x) = \\frac{1}{\\sqrt{2\\pi}(0.04)} \\, e^{-\\frac{1}{2} \\left( \\frac{x - 1.5}{0.04} \\right)^2}, \\quad -\\infty < x < \\infty\n",
        "\\end{equation}\n",
        "\n",
        "\\begin{equation}\n",
        "x_2 \\thicksim f(x) = \\frac{1}{\\sqrt{2\\pi}(0.003)} \\, e^{-\\frac{1}{2} \\left( \\frac{x - 1.48}{0.003} \\right)^2}, \\quad -\\infty < x < \\infty\n",
        "\\end{equation}\n"
      ],
      "metadata": {
        "id": "QgqNsZwjTzwS"
      }
    },
    {
      "cell_type": "markdown",
      "source": [
        "####PASO 3: BOX MULLER\n",
        "\n",
        "Box-Muller convierte dos variables aleatorias uniformes  $U_1,U_2$  en dos variables normales independientes"
      ],
      "metadata": {
        "id": "XyFSzOBFVv3J"
      }
    },
    {
      "cell_type": "markdown",
      "source": [
        "####PASO 4: CONDICION DE INTERFERENCIA\n",
        "\n",
        "\\begin{equation}\n",
        "x_1 \\geq x_2\n",
        "\\end{equation}\n",
        "\n",
        "Buscamos\n",
        "\n",
        "\\begin{equation}\n",
        "P(x_1 \\geq x_2)\n",
        "\\end{equation}"
      ],
      "metadata": {
        "id": "PRTBeNkBV-_h"
      }
    },
    {
      "cell_type": "markdown",
      "source": [
        "####PASO5:\n",
        "\n",
        "n=10 cantidad de veces\n",
        "\n",
        "Generar dos numeros aleatorios $(x_1 , x_2)$"
      ],
      "metadata": {
        "id": "sGks7h7NcT7d"
      }
    },
    {
      "cell_type": "code",
      "execution_count": 12,
      "metadata": {
        "id": "LB5Z8nx-Qu8T"
      },
      "outputs": [],
      "source": [
        "#Librerias\n",
        "import random as rd\n",
        "import numpy as np\n",
        "import matplotlib.pyplot as plt\n",
        "import math\n",
        "from scipy.stats import norm"
      ]
    },
    {
      "cell_type": "markdown",
      "source": [],
      "metadata": {
        "id": "T44kd78IiTL5"
      }
    },
    {
      "cell_type": "code",
      "source": [
        "def experimento(n=10):\n",
        "  exitos = 0\n",
        "  for i in range(n):\n",
        "    x1 = np.random.normal(1.5,0.04,1)\n",
        "    x2 = np.random.normal(1.48,0.03,1)\n",
        "    if x2 > x1:\n",
        "      exitos += 1\n",
        "    prob = exitos/n\n",
        "  return prob"
      ],
      "metadata": {
        "id": "dbaRjdEJQwd9"
      },
      "execution_count": 7,
      "outputs": []
    },
    {
      "cell_type": "markdown",
      "source": [
        "####PASO 6:\n",
        "\n",
        "Repetir M veces el experimento"
      ],
      "metadata": {
        "id": "AWOvkHU2gKw8"
      }
    },
    {
      "cell_type": "code",
      "source": [
        "def muestra (M=1000):\n",
        "  lista = []\n",
        "  for i in range(M):\n",
        "    e = experimento(n=10)\n",
        "    lista.append(e)\n",
        "  return lista\n"
      ],
      "metadata": {
        "id": "uzy8yracRk3j"
      },
      "execution_count": 8,
      "outputs": []
    },
    {
      "cell_type": "code",
      "source": [
        "#Parámetros\n",
        "mu_x1 = 1.5\n",
        "sig_x1 = np.sqrt(0.0016)\n",
        "mu_x2 = 1.48\n",
        "sig_x2 = np.sqrt(0.0009)"
      ],
      "metadata": {
        "id": "gUrFTIdah8Fh"
      },
      "execution_count": 10,
      "outputs": []
    },
    {
      "cell_type": "markdown",
      "source": [
        "a) La probabilidad de que haya interferencia"
      ],
      "metadata": {
        "id": "QZ85o7_MiDIZ"
      }
    },
    {
      "cell_type": "code",
      "source": [
        "mu_D = mu_x2 - mu_x1\n",
        "sigma_D = np.sqrt(sig_x1**2 + sig_x2**2)\n",
        "prob_teorica = 1 - norm.cdf(0, loc=mu_D, scale=sigma_D)\n",
        "print(f\"Probabilidad teórica de interferencia: {prob_teorica:.4f}\")"
      ],
      "metadata": {
        "colab": {
          "base_uri": "https://localhost:8080/"
        },
        "id": "HBaeICm0iAK-",
        "outputId": "f488febf-2faf-4f4b-90fc-bb60e77c74dd"
      },
      "execution_count": 13,
      "outputs": [
        {
          "output_type": "stream",
          "name": "stdout",
          "text": [
            "Probabilidad teórica de interferencia: 0.3446\n"
          ]
        }
      ]
    },
    {
      "cell_type": "markdown",
      "source": [
        "b) El numero de veces que es necesario simular el experimeto, si se quiere que la probabilidad de interferencia estimada difiera de su valor verdadero en menos de 0.01, con un nivel de seguridad del 95%"
      ],
      "metadata": {
        "id": "qhnDKXHNifra"
      }
    },
    {
      "cell_type": "code",
      "source": [
        "z = 1.96\n",
        "E = 0.01\n",
        "n_simulaciones = int(np.ceil((z**2 * prob_teorica * (1 - prob_teorica)) / E**2))\n",
        "print(f\"Número de simulaciones necesarias: {n_simulaciones}\")"
      ],
      "metadata": {
        "colab": {
          "base_uri": "https://localhost:8080/"
        },
        "id": "SLaq9NSWig6h",
        "outputId": "cffd5c54-1ead-4184-df12-e6128bf837a8"
      },
      "execution_count": 14,
      "outputs": [
        {
          "output_type": "stream",
          "name": "stdout",
          "text": [
            "Número de simulaciones necesarias: 8677\n"
          ]
        }
      ]
    },
    {
      "cell_type": "markdown",
      "source": [
        "#### GRAFICAMOS"
      ],
      "metadata": {
        "id": "TYRtT0OUimFu"
      }
    },
    {
      "cell_type": "code",
      "source": [
        "m = muestra(M=1000)\n",
        "plt.plot(m)"
      ],
      "metadata": {
        "colab": {
          "base_uri": "https://localhost:8080/",
          "height": 448
        },
        "id": "-9Kwzs6_R4xV",
        "outputId": "8ba5d208-3be5-4c50-87a4-ed44eda7f238"
      },
      "execution_count": 9,
      "outputs": [
        {
          "output_type": "execute_result",
          "data": {
            "text/plain": [
              "[<matplotlib.lines.Line2D at 0x7e0e4b462a90>]"
            ]
          },
          "metadata": {},
          "execution_count": 9
        },
        {
          "output_type": "display_data",
          "data": {
            "text/plain": [
              "<Figure size 640x480 with 1 Axes>"
            ],
            "image/png": "[encoded data removed]"
          },
          "metadata": {}
        }
      ]
    }
  ]
}